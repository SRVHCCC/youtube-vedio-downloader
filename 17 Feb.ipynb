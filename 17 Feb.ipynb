{
 "cells": [
  {
   "cell_type": "markdown",
   "id": "1dde2d09",
   "metadata": {},
   "source": [
    "# . What is MongoDB? Explain non-relational databases in short. In which scenarios it is preferred to use\n",
    "MongoDB over SQL databases?"
   ]
  },
  {
   "cell_type": "markdown",
   "id": "a0fdfee2",
   "metadata": {},
   "source": [
    "MongoDB is a popular document-oriented NoSQL database that uses a JSON-like format to store data. Unlike traditional relational databases, which store data in tables with strict schemas, MongoDB stores data as flexible documents that can have varying structures and fields.\n",
    "\n",
    "Non-relational databases, also known as NoSQL databases, are databases that do not rely on the traditional tabular relationships used in relational databases. Non-relational databases are designed to be more flexible, scalable, and capable of handling unstructured or semi-structured data, such as text, images, or documents.\n",
    "\n",
    "MongoDB is preferred over SQL databases in scenarios where there is a need for a high degree of scalability, performance, and flexibility in data modeling. Some specific scenarios where MongoDB might be preferred over SQL databases include:\n",
    "\n",
    "High-volume data ingestion: MongoDB can handle large amounts of unstructured or semi-structured data much more efficiently than SQL databases.\n",
    "\n",
    "Complex data structures: If you have data with complex or changing structures, MongoDB's flexible document-based data model can make it easier to store and query the data.\n",
    "\n",
    "Rapid application development: MongoDB's document-based approach can make it easier to develop and iterate on applications, particularly when working with agile development methodologies.\n",
    "\n",
    "Cloud-based or distributed applications: MongoDB's ability to horizontally scale across multiple servers or cloud instances makes it a good choice for applications that need to scale rapidly or have high availability requirements.\n",
    "\n",
    "Overall, MongoDB can be a good choice for applications that require high scalability, performance, and flexibility in data modeling. However, it's important to evaluate your specific requirements and compare MongoDB against other database solutions before making a final decision.\n",
    "\n",
    "\n",
    "\n"
   ]
  },
  {
   "cell_type": "markdown",
   "id": "128789f0",
   "metadata": {},
   "source": [
    "# Q.2 State and Explain the features of MongoDB."
   ]
  },
  {
   "cell_type": "markdown",
   "id": "593d5c67",
   "metadata": {},
   "source": [
    "MongoDB is a popular NoSQL database that uses a document-oriented data model to store and manage data. Some of the key features of MongoDB are:\n",
    "\n",
    "Document-oriented data model: MongoDB stores data as JSON-like documents, which makes it easy to work with data and adapt to changes in data structure.\n",
    "\n",
    "Scalability: MongoDB is designed to scale horizontally across multiple servers and clusters, making it suitable for handling large volumes of data and high traffic loads.\n",
    "\n",
    "Flexible data schema: MongoDB does not enforce a fixed schema, so you can add and remove fields as needed without having to modify the entire database schema.\n",
    "\n",
    "Indexing: MongoDB supports various indexing options such as single-field indexes, compound indexes, and geospatial indexes, which makes querying and searching data faster and more efficient.\n",
    "\n",
    "High availability: MongoDB supports replication and automatic failover, which ensures that the database remains available even if one or more servers go down."
   ]
  },
  {
   "cell_type": "markdown",
   "id": "5e2713ea",
   "metadata": {},
   "source": [
    "# Q3. Write a code to connect MongoDB to Python. Also, create a database and a collection in MongoDB."
   ]
  },
  {
   "cell_type": "code",
   "execution_count": 2,
   "id": "1991a90d",
   "metadata": {},
   "outputs": [
    {
     "ename": "SyntaxError",
     "evalue": "invalid syntax (34954788.py, line 1)",
     "output_type": "error",
     "traceback": [
      "\u001b[1;36m  Input \u001b[1;32mIn [2]\u001b[1;36m\u001b[0m\n\u001b[1;33m    pip install pymongo\u001b[0m\n\u001b[1;37m        ^\u001b[0m\n\u001b[1;31mSyntaxError\u001b[0m\u001b[1;31m:\u001b[0m invalid syntax\n"
     ]
    }
   ],
   "source": [
    "pip install pymongo\n",
    "\n",
    "import pymongo\n",
    "\n",
    "# Connect to MongoDB\n",
    "client = pymongo.MongoClient(\"mongodb://localhost:27017/\")\n",
    "\n",
    "# Create a database\n",
    "db = client[\"mydatabase\"]\n",
    "\n",
    "# Create a collection\n",
    "col = db[\"customers\"]\n",
    "\n",
    "# Insert a document\n",
    "doc = {\"name\": \"John\", \"address\": \"Highway 37\"}\n",
    "col.insert_one(doc)\n",
    "\n",
    "use mydatabase\n",
    "db.customers.find()\n",
    "\n"
   ]
  },
  {
   "cell_type": "markdown",
   "id": "bff6c6a8",
   "metadata": {},
   "source": [
    "# Q5. Explain how you can use the find() method to query the MongoDB database. Write a simple code to\n",
    "demonstrate this."
   ]
  },
  {
   "cell_type": "markdown",
   "id": "63257242",
   "metadata": {},
   "source": [
    "In MongoDB, the find() method is used to query the database and retrieve documents that match the specified criteria. It returns a cursor to the documents that match the query, which can be iterated over to access the individual documents.\n",
    "\n",
    "The basic syntax of the find() method in MongoDB is as follows:\n",
    "\n",
    "\n"
   ]
  },
  {
   "cell_type": "code",
   "execution_count": null,
   "id": "6c321700",
   "metadata": {},
   "outputs": [],
   "source": [
    "db.collection.find(query, projection)"
   ]
  },
  {
   "cell_type": "code",
   "execution_count": null,
   "id": "e058ccba",
   "metadata": {},
   "outputs": [],
   "source": [
    "import pymongo\n",
    "\n",
    "# Establish a connection to MongoDB\n",
    "client = pymongo.MongoClient(\"mongodb://localhost:27017/\")\n",
    "\n",
    "# Select a database and collection to search\n",
    "db = client[\"mydatabase\"]\n",
    "collection = db[\"mycollection\"]\n",
    "\n",
    "# Define a query to search for documents with a specific field value\n",
    "query = { \"name\": \"John\" }\n",
    "\n",
    "# Use the find() method to retrieve documents that match the query\n",
    "results = collection.find(query)\n",
    "\n",
    "# Iterate over the results and print each document\n",
    "for doc in results:\n",
    "    print(doc)\n"
   ]
  },
  {
   "cell_type": "markdown",
   "id": "00f3bcc0",
   "metadata": {},
   "source": [
    "# Q7. Explain why delete_one(), delete_many(), and drop() is used."
   ]
  },
  {
   "cell_type": "markdown",
   "id": "850bba5b",
   "metadata": {},
   "source": [
    "delete_one() can be used when a user wants to remove a specific document from a collection, such as when correcting an erroneous entry.\n",
    "\n",
    "delete_many() can be used when a user wants to remove multiple documents from a collection based on a certain criteria, such as removing all the expired records.\n",
    "\n",
    "drop() can be used when a user wants to completely remove a collection and all its documents from the database, such as when the collection is no longer needed or when there is a need to restructure the database."
   ]
  },
  {
   "cell_type": "code",
   "execution_count": null,
   "id": "ad0d6451",
   "metadata": {},
   "outputs": [],
   "source": []
  }
 ],
 "metadata": {
  "kernelspec": {
   "display_name": "Python 3 (ipykernel)",
   "language": "python",
   "name": "python3"
  },
  "language_info": {
   "codemirror_mode": {
    "name": "ipython",
    "version": 3
   },
   "file_extension": ".py",
   "mimetype": "text/x-python",
   "name": "python",
   "nbconvert_exporter": "python",
   "pygments_lexer": "ipython3",
   "version": "3.9.12"
  }
 },
 "nbformat": 4,
 "nbformat_minor": 5
}
